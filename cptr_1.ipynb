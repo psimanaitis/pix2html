{
  "nbformat": 4,
  "nbformat_minor": 0,
  "metadata": {
    "colab": {
      "name": "cptr 1.ipynb",
      "provenance": [],
      "collapsed_sections": [],
      "toc_visible": true,
      "machine_shape": "hm",
      "include_colab_link": true
    },
    "kernelspec": {
      "display_name": "Python 3",
      "language": "python",
      "name": "python3"
    },
    "language_info": {
      "codemirror_mode": {
        "name": "ipython",
        "version": 3
      },
      "file_extension": ".py",
      "mimetype": "text/x-python",
      "name": "python",
      "nbconvert_exporter": "python",
      "pygments_lexer": "ipython3",
      "version": "3.7.7"
    },
    "accelerator": "GPU",
    "widgets": {
      "application/vnd.jupyter.widget-state+json": {
        "8f305fedca7f4d6f8b2d3335a791aa1f": {
          "model_module": "@jupyter-widgets/controls",
          "model_name": "VBoxModel",
          "state": {
            "_view_name": "VBoxView",
            "_dom_classes": [],
            "_model_name": "VBoxModel",
            "_view_module": "@jupyter-widgets/controls",
            "_model_module_version": "1.5.0",
            "_view_count": null,
            "_view_module_version": "1.5.0",
            "box_style": "",
            "layout": "IPY_MODEL_da1b50852e9346318f1099aa4802efbf",
            "_model_module": "@jupyter-widgets/controls",
            "children": [
              "IPY_MODEL_326a143578364d2d927d7353b5465071",
              "IPY_MODEL_c014280cc0ee42c48587a6e378ae1085"
            ]
          }
        },
        "da1b50852e9346318f1099aa4802efbf": {
          "model_module": "@jupyter-widgets/base",
          "model_name": "LayoutModel",
          "state": {
            "_view_name": "LayoutView",
            "grid_template_rows": null,
            "right": null,
            "justify_content": null,
            "_view_module": "@jupyter-widgets/base",
            "overflow": null,
            "_model_module_version": "1.2.0",
            "_view_count": null,
            "flex_flow": null,
            "width": null,
            "min_width": null,
            "border": null,
            "align_items": null,
            "bottom": null,
            "_model_module": "@jupyter-widgets/base",
            "top": null,
            "grid_column": null,
            "overflow_y": null,
            "overflow_x": null,
            "grid_auto_flow": null,
            "grid_area": null,
            "grid_template_columns": null,
            "flex": null,
            "_model_name": "LayoutModel",
            "justify_items": null,
            "grid_row": null,
            "max_height": null,
            "align_content": null,
            "visibility": null,
            "align_self": null,
            "height": null,
            "min_height": null,
            "padding": null,
            "grid_auto_rows": null,
            "grid_gap": null,
            "max_width": null,
            "order": null,
            "_view_module_version": "1.2.0",
            "grid_template_areas": null,
            "object_position": null,
            "object_fit": null,
            "grid_auto_columns": null,
            "margin": null,
            "display": null,
            "left": null
          }
        },
        "326a143578364d2d927d7353b5465071": {
          "model_module": "@jupyter-widgets/controls",
          "model_name": "LabelModel",
          "state": {
            "_view_name": "LabelView",
            "style": "IPY_MODEL_d50007a3b52e407e918fc5c999dde6b4",
            "_dom_classes": [],
            "description": "",
            "_model_name": "LabelModel",
            "placeholder": "​",
            "_view_module": "@jupyter-widgets/controls",
            "_model_module_version": "1.5.0",
            "value": " 1.97MB of 1.97MB uploaded (0.00MB deduped)\r",
            "_view_count": null,
            "_view_module_version": "1.5.0",
            "description_tooltip": null,
            "_model_module": "@jupyter-widgets/controls",
            "layout": "IPY_MODEL_c5cfd228cd1345678359bcbfe0bd9e9f"
          }
        },
        "c014280cc0ee42c48587a6e378ae1085": {
          "model_module": "@jupyter-widgets/controls",
          "model_name": "FloatProgressModel",
          "state": {
            "_view_name": "ProgressView",
            "style": "IPY_MODEL_0bd2b0aca939484ebdf2b9ba977e5092",
            "_dom_classes": [],
            "description": "",
            "_model_name": "FloatProgressModel",
            "bar_style": "",
            "max": 1,
            "_view_module": "@jupyter-widgets/controls",
            "_model_module_version": "1.5.0",
            "value": 1,
            "_view_count": null,
            "_view_module_version": "1.5.0",
            "orientation": "horizontal",
            "min": 0,
            "description_tooltip": null,
            "_model_module": "@jupyter-widgets/controls",
            "layout": "IPY_MODEL_106498e7e77b4239b3eb9c938e63b836"
          }
        },
        "d50007a3b52e407e918fc5c999dde6b4": {
          "model_module": "@jupyter-widgets/controls",
          "model_name": "DescriptionStyleModel",
          "state": {
            "_view_name": "StyleView",
            "_model_name": "DescriptionStyleModel",
            "description_width": "",
            "_view_module": "@jupyter-widgets/base",
            "_model_module_version": "1.5.0",
            "_view_count": null,
            "_view_module_version": "1.2.0",
            "_model_module": "@jupyter-widgets/controls"
          }
        },
        "c5cfd228cd1345678359bcbfe0bd9e9f": {
          "model_module": "@jupyter-widgets/base",
          "model_name": "LayoutModel",
          "state": {
            "_view_name": "LayoutView",
            "grid_template_rows": null,
            "right": null,
            "justify_content": null,
            "_view_module": "@jupyter-widgets/base",
            "overflow": null,
            "_model_module_version": "1.2.0",
            "_view_count": null,
            "flex_flow": null,
            "width": null,
            "min_width": null,
            "border": null,
            "align_items": null,
            "bottom": null,
            "_model_module": "@jupyter-widgets/base",
            "top": null,
            "grid_column": null,
            "overflow_y": null,
            "overflow_x": null,
            "grid_auto_flow": null,
            "grid_area": null,
            "grid_template_columns": null,
            "flex": null,
            "_model_name": "LayoutModel",
            "justify_items": null,
            "grid_row": null,
            "max_height": null,
            "align_content": null,
            "visibility": null,
            "align_self": null,
            "height": null,
            "min_height": null,
            "padding": null,
            "grid_auto_rows": null,
            "grid_gap": null,
            "max_width": null,
            "order": null,
            "_view_module_version": "1.2.0",
            "grid_template_areas": null,
            "object_position": null,
            "object_fit": null,
            "grid_auto_columns": null,
            "margin": null,
            "display": null,
            "left": null
          }
        },
        "0bd2b0aca939484ebdf2b9ba977e5092": {
          "model_module": "@jupyter-widgets/controls",
          "model_name": "ProgressStyleModel",
          "state": {
            "_view_name": "StyleView",
            "_model_name": "ProgressStyleModel",
            "description_width": "",
            "_view_module": "@jupyter-widgets/base",
            "_model_module_version": "1.5.0",
            "_view_count": null,
            "_view_module_version": "1.2.0",
            "bar_color": null,
            "_model_module": "@jupyter-widgets/controls"
          }
        },
        "106498e7e77b4239b3eb9c938e63b836": {
          "model_module": "@jupyter-widgets/base",
          "model_name": "LayoutModel",
          "state": {
            "_view_name": "LayoutView",
            "grid_template_rows": null,
            "right": null,
            "justify_content": null,
            "_view_module": "@jupyter-widgets/base",
            "overflow": null,
            "_model_module_version": "1.2.0",
            "_view_count": null,
            "flex_flow": null,
            "width": null,
            "min_width": null,
            "border": null,
            "align_items": null,
            "bottom": null,
            "_model_module": "@jupyter-widgets/base",
            "top": null,
            "grid_column": null,
            "overflow_y": null,
            "overflow_x": null,
            "grid_auto_flow": null,
            "grid_area": null,
            "grid_template_columns": null,
            "flex": null,
            "_model_name": "LayoutModel",
            "justify_items": null,
            "grid_row": null,
            "max_height": null,
            "align_content": null,
            "visibility": null,
            "align_self": null,
            "height": null,
            "min_height": null,
            "padding": null,
            "grid_auto_rows": null,
            "grid_gap": null,
            "max_width": null,
            "order": null,
            "_view_module_version": "1.2.0",
            "grid_template_areas": null,
            "object_position": null,
            "object_fit": null,
            "grid_auto_columns": null,
            "margin": null,
            "display": null,
            "left": null
          }
        },
        "1f0251d7841c4665aa0377069fe8f62f": {
          "model_module": "@jupyter-widgets/controls",
          "model_name": "VBoxModel",
          "state": {
            "_view_name": "VBoxView",
            "_dom_classes": [],
            "_model_name": "VBoxModel",
            "_view_module": "@jupyter-widgets/controls",
            "_model_module_version": "1.5.0",
            "_view_count": null,
            "_view_module_version": "1.5.0",
            "box_style": "",
            "layout": "IPY_MODEL_fc27c974f8b24337a54b79d9df7eec78",
            "_model_module": "@jupyter-widgets/controls",
            "children": [
              "IPY_MODEL_495e2084d5e14490baa2ca0fff1db26c",
              "IPY_MODEL_4a4ce4221ec2446c927d556ebe8f8fcb"
            ]
          }
        },
        "fc27c974f8b24337a54b79d9df7eec78": {
          "model_module": "@jupyter-widgets/base",
          "model_name": "LayoutModel",
          "state": {
            "_view_name": "LayoutView",
            "grid_template_rows": null,
            "right": null,
            "justify_content": null,
            "_view_module": "@jupyter-widgets/base",
            "overflow": null,
            "_model_module_version": "1.2.0",
            "_view_count": null,
            "flex_flow": null,
            "width": null,
            "min_width": null,
            "border": null,
            "align_items": null,
            "bottom": null,
            "_model_module": "@jupyter-widgets/base",
            "top": null,
            "grid_column": null,
            "overflow_y": null,
            "overflow_x": null,
            "grid_auto_flow": null,
            "grid_area": null,
            "grid_template_columns": null,
            "flex": null,
            "_model_name": "LayoutModel",
            "justify_items": null,
            "grid_row": null,
            "max_height": null,
            "align_content": null,
            "visibility": null,
            "align_self": null,
            "height": null,
            "min_height": null,
            "padding": null,
            "grid_auto_rows": null,
            "grid_gap": null,
            "max_width": null,
            "order": null,
            "_view_module_version": "1.2.0",
            "grid_template_areas": null,
            "object_position": null,
            "object_fit": null,
            "grid_auto_columns": null,
            "margin": null,
            "display": null,
            "left": null
          }
        },
        "495e2084d5e14490baa2ca0fff1db26c": {
          "model_module": "@jupyter-widgets/controls",
          "model_name": "LabelModel",
          "state": {
            "_view_name": "LabelView",
            "style": "IPY_MODEL_d1df895adb604c88976608567a50e41e",
            "_dom_classes": [],
            "description": "",
            "_model_name": "LabelModel",
            "placeholder": "​",
            "_view_module": "@jupyter-widgets/controls",
            "_model_module_version": "1.5.0",
            "value": " 200.46MB of 200.46MB uploaded (0.00MB deduped)\r",
            "_view_count": null,
            "_view_module_version": "1.5.0",
            "description_tooltip": null,
            "_model_module": "@jupyter-widgets/controls",
            "layout": "IPY_MODEL_390883f10e1445309ddf1a32bd664a5e"
          }
        },
        "4a4ce4221ec2446c927d556ebe8f8fcb": {
          "model_module": "@jupyter-widgets/controls",
          "model_name": "FloatProgressModel",
          "state": {
            "_view_name": "ProgressView",
            "style": "IPY_MODEL_3c72edc24d9245b09c20c384d7ec8a6f",
            "_dom_classes": [],
            "description": "",
            "_model_name": "FloatProgressModel",
            "bar_style": "",
            "max": 1,
            "_view_module": "@jupyter-widgets/controls",
            "_model_module_version": "1.5.0",
            "value": 1,
            "_view_count": null,
            "_view_module_version": "1.5.0",
            "orientation": "horizontal",
            "min": 0,
            "description_tooltip": null,
            "_model_module": "@jupyter-widgets/controls",
            "layout": "IPY_MODEL_1430532c88954c5a876ac73bcafeb0f3"
          }
        },
        "d1df895adb604c88976608567a50e41e": {
          "model_module": "@jupyter-widgets/controls",
          "model_name": "DescriptionStyleModel",
          "state": {
            "_view_name": "StyleView",
            "_model_name": "DescriptionStyleModel",
            "description_width": "",
            "_view_module": "@jupyter-widgets/base",
            "_model_module_version": "1.5.0",
            "_view_count": null,
            "_view_module_version": "1.2.0",
            "_model_module": "@jupyter-widgets/controls"
          }
        },
        "390883f10e1445309ddf1a32bd664a5e": {
          "model_module": "@jupyter-widgets/base",
          "model_name": "LayoutModel",
          "state": {
            "_view_name": "LayoutView",
            "grid_template_rows": null,
            "right": null,
            "justify_content": null,
            "_view_module": "@jupyter-widgets/base",
            "overflow": null,
            "_model_module_version": "1.2.0",
            "_view_count": null,
            "flex_flow": null,
            "width": null,
            "min_width": null,
            "border": null,
            "align_items": null,
            "bottom": null,
            "_model_module": "@jupyter-widgets/base",
            "top": null,
            "grid_column": null,
            "overflow_y": null,
            "overflow_x": null,
            "grid_auto_flow": null,
            "grid_area": null,
            "grid_template_columns": null,
            "flex": null,
            "_model_name": "LayoutModel",
            "justify_items": null,
            "grid_row": null,
            "max_height": null,
            "align_content": null,
            "visibility": null,
            "align_self": null,
            "height": null,
            "min_height": null,
            "padding": null,
            "grid_auto_rows": null,
            "grid_gap": null,
            "max_width": null,
            "order": null,
            "_view_module_version": "1.2.0",
            "grid_template_areas": null,
            "object_position": null,
            "object_fit": null,
            "grid_auto_columns": null,
            "margin": null,
            "display": null,
            "left": null
          }
        },
        "3c72edc24d9245b09c20c384d7ec8a6f": {
          "model_module": "@jupyter-widgets/controls",
          "model_name": "ProgressStyleModel",
          "state": {
            "_view_name": "StyleView",
            "_model_name": "ProgressStyleModel",
            "description_width": "",
            "_view_module": "@jupyter-widgets/base",
            "_model_module_version": "1.5.0",
            "_view_count": null,
            "_view_module_version": "1.2.0",
            "bar_color": null,
            "_model_module": "@jupyter-widgets/controls"
          }
        },
        "1430532c88954c5a876ac73bcafeb0f3": {
          "model_module": "@jupyter-widgets/base",
          "model_name": "LayoutModel",
          "state": {
            "_view_name": "LayoutView",
            "grid_template_rows": null,
            "right": null,
            "justify_content": null,
            "_view_module": "@jupyter-widgets/base",
            "overflow": null,
            "_model_module_version": "1.2.0",
            "_view_count": null,
            "flex_flow": null,
            "width": null,
            "min_width": null,
            "border": null,
            "align_items": null,
            "bottom": null,
            "_model_module": "@jupyter-widgets/base",
            "top": null,
            "grid_column": null,
            "overflow_y": null,
            "overflow_x": null,
            "grid_auto_flow": null,
            "grid_area": null,
            "grid_template_columns": null,
            "flex": null,
            "_model_name": "LayoutModel",
            "justify_items": null,
            "grid_row": null,
            "max_height": null,
            "align_content": null,
            "visibility": null,
            "align_self": null,
            "height": null,
            "min_height": null,
            "padding": null,
            "grid_auto_rows": null,
            "grid_gap": null,
            "max_width": null,
            "order": null,
            "_view_module_version": "1.2.0",
            "grid_template_areas": null,
            "object_position": null,
            "object_fit": null,
            "grid_auto_columns": null,
            "margin": null,
            "display": null,
            "left": null
          }
        }
      }
    }
  },
  "cells": [
    {
      "cell_type": "markdown",
      "metadata": {
        "id": "view-in-github",
        "colab_type": "text"
      },
      "source": [
        "<a href=\"https://colab.research.google.com/github/psimanaitis/pix2html/blob/main/cptr_1.ipynb\" target=\"_parent\"><img src=\"https://colab.research.google.com/assets/colab-badge.svg\" alt=\"Open In Colab\"/></a>"
      ]
    },
    {
      "cell_type": "markdown",
      "metadata": {
        "id": "BCZ0cHB696nX"
      },
      "source": [
        "# Dataset import and its preprocessing"
      ]
    },
    {
      "cell_type": "code",
      "metadata": {
        "id": "gnvZa1BVV-IW"
      },
      "source": [
        "%%capture\n",
        "\n",
        "!pip install tf-models-official\n",
        "!pip install tensorflow-addons\n",
        "\n",
        "import tensorflow as tf\n",
        "import tensorflow_addons as tfa\n",
        "import time, os\n",
        "import numpy as np\n",
        "import json\n",
        "from tensorboard.plugins.hparams import api as hp\n",
        "\n",
        "\n",
        "tf.keras.utils.get_file('pix2html.zip', cache_subdir=os.path.abspath('.'), origin = 'https://raw.githubusercontent.com/psimanaitis/pix2html/main/dataset/pix2html.zip', extract = True)\n",
        "tf.keras.utils.get_file('pix2code.zip', cache_subdir=os.path.abspath('.'), origin = 'https://raw.githubusercontent.com/psimanaitis/pix2html/main/dataset/pix2code.zip', extract = True)\n",
        "\n",
        "\n",
        "!pip install wandb -qqq\n",
        "import wandb"
      ],
      "execution_count": null,
      "outputs": []
    },
    {
      "cell_type": "code",
      "metadata": {
        "colab": {
          "base_uri": "https://localhost:8080/"
        },
        "id": "HNFpCj5TCRAq",
        "outputId": "7926ce05-a8a2-44ac-ce13-26acacd32ff1"
      },
      "source": [
        "!wandb login"
      ],
      "execution_count": null,
      "outputs": [
        {
          "output_type": "stream",
          "text": [
            "\u001b[34m\u001b[1mwandb\u001b[0m: You can find your API key in your browser here: https://wandb.ai/authorize\n",
            "\u001b[34m\u001b[1mwandb\u001b[0m: Paste an API key from your profile and hit enter: \n",
            "\u001b[34m\u001b[1mwandb\u001b[0m: Appending key for api.wandb.ai to your netrc file: /root/.netrc\n"
          ],
          "name": "stdout"
        }
      ]
    },
    {
      "cell_type": "code",
      "metadata": {
        "id": "ZtR6XilEdcdN"
      },
      "source": [
        "def find_max_list(list):\r\n",
        "    list_len = [len(i) for i in list]\r\n",
        "    return max(list_len)\r\n",
        "\r\n",
        "def get_dataset_vectors(html_entries, tokenizer, input_path):\r\n",
        "    sequences = []\r\n",
        "    images = []\r\n",
        "    for x in range(len(html_entries)):\r\n",
        "            entry = html_entries[x]\r\n",
        "            full_input_path =  input_path + entry['id'] + '.jpeg'\r\n",
        "            images.append(full_input_path)\r\n",
        "            # TODO add start end tokens\r\n",
        "            sequences.append(entry['content'])\r\n",
        "\r\n",
        "    return sequences, images\r\n",
        "\r\n",
        "def read_images(images, dimensions=224):\r\n",
        "    parsed = []\r\n",
        "    for image in images:\r\n",
        "        img = tf.io.read_file(image)\r\n",
        "        img = tf.image.decode_jpeg(img, channels=3)\r\n",
        "        img = tf.image.resize(img, (dimensions, dimensions))\r\n",
        "        img =  tf.keras.layers.experimental.preprocessing.Rescaling(1.0 / 255)(img)    \r\n",
        "        parsed.append(img)\r\n",
        "    \r\n",
        "    return parsed\r\n",
        "\r\n",
        "\r\n",
        "def load_dataset(dataset_name):\r\n",
        "    #dataset_name pix2html | pix2code\r\n",
        "    input_path = dataset_name + '/resized/'\r\n",
        "\r\n",
        "    with open(dataset_name + '/tokens.json', 'r') as f:\r\n",
        "        tokens = json.load(f)\r\n",
        "\r\n",
        "    tokens.append('<start>')\r\n",
        "    tokens.append('<end>')\r\n",
        "    tokens.append('<unk>')      \r\n",
        "\r\n",
        "    top_k = len(tokens) + 1\r\n",
        "    tokenizer = tf.keras.preprocessing.text.Tokenizer(num_words=top_k, oov_token=\"<unk>\", filters='', split=\" \")\r\n",
        "    tokenizer.fit_on_texts(tokens)\r\n",
        "    tokenizer.word_index['<pad>'] = 0\r\n",
        "    tokenizer.index_word[0] = '<pad>'\r\n",
        "\r\n",
        "    with open(dataset_name + '/train-html.json', 'r') as f:\r\n",
        "        train_entries = json.load(f)\r\n",
        "\r\n",
        "    with open(dataset_name + '/test-html.json', 'r') as f:\r\n",
        "        test_entries = json.load(f)\r\n",
        "\r\n",
        "\r\n",
        "    train_sequences, train_images = get_dataset_vectors(train_entries, tokenizer, input_path)\r\n",
        "    validate_sequences, validate_images = get_dataset_vectors(test_entries, tokenizer, input_path)\r\n",
        "\r\n",
        "    tokenized_train = tokenizer.texts_to_sequences(train_sequences)\r\n",
        "    tokenized_validate = tokenizer.texts_to_sequences(validate_sequences)\r\n",
        "    maxlen = max([find_max_list(list = tokenized_train), find_max_list(list = tokenized_validate)])\r\n",
        "\r\n",
        "    train_sequences = tokenizer.texts_to_sequences(train_sequences)\r\n",
        "    train_sequences = tf.keras.preprocessing.sequence.pad_sequences(train_sequences, padding='post', maxlen=maxlen)\r\n",
        "\r\n",
        "    validate_sequences = tokenizer.texts_to_sequences(validate_sequences)\r\n",
        "    validate_sequences = tf.keras.preprocessing.sequence.pad_sequences(validate_sequences, padding='post', maxlen=maxlen)\r\n",
        "\r\n",
        "    train_images = read_images(train_images)\r\n",
        "    validate_images = read_images(validate_images)\r\n",
        "\r\n",
        "    return train_sequences, train_images, validate_sequences, validate_images, top_k, tokenizer\r\n",
        "\r\n",
        "# decoder inputs use the previous target as input\r\n",
        "# remove START_TOKEN from targets\r\n",
        "def process_dataset(image, html, batch_size):\r\n",
        "    dataset = tf.data.Dataset.from_tensor_slices((\r\n",
        "        {\r\n",
        "            'inputs': image,\r\n",
        "            'dec_inputs': html[:, :-1]\r\n",
        "        },\r\n",
        "        {\r\n",
        "            'outputs': html[:, 1:]\r\n",
        "        },\r\n",
        "    ))\r\n",
        "    dataset = dataset.cache()\r\n",
        "    dataset = dataset.batch(batch_size)\r\n",
        "    dataset = dataset.prefetch(tf.data.experimental.AUTOTUNE)\r\n",
        "    return dataset    "
      ],
      "execution_count": null,
      "outputs": []
    },
    {
      "cell_type": "markdown",
      "metadata": {
        "id": "m6Jo1-gSwykP"
      },
      "source": [
        "# The model"
      ]
    },
    {
      "cell_type": "markdown",
      "metadata": {
        "id": "E08mgwo-xY5S"
      },
      "source": [
        "I am trying to implement this model\r\n",
        "\r\n",
        "![Capture3.PNG](data:image/png;base64,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)"
      ]
    },
    {
      "cell_type": "code",
      "metadata": {
        "id": "yuIKhIX74ezr"
      },
      "source": [
        "import tensorflow_addons as tfa\r\n",
        "from official.nlp.transformer.ffn_layer import FeedForwardNetwork\r\n",
        "from official.nlp.modeling.layers.position_embedding import RelativePositionEmbedding\r\n",
        "\r\n",
        "def encoder_layer(d_model=512, num_heads=8, dropout=0.1, name=\"encoder_layer\"):\r\n",
        "  inputs = tf.keras.Input(shape=(None, d_model), name=\"inputs\")\r\n",
        "\r\n",
        "  # Self attention \r\n",
        "  attention = tf.keras.layers.MultiHeadAttention(key_dim=d_model, num_heads=num_heads, dropout=dropout, output_shape=d_model)(inputs, inputs, inputs, attention_mask=None, return_attention_scores=False)\r\n",
        "\r\n",
        "  # Add & Norm \r\n",
        "  attention = tf.keras.layers.LayerNormalization(epsilon=1e-6)(inputs + attention)\r\n",
        "\r\n",
        "  # Feed forward  \r\n",
        "  outputs = tf.keras.layers.Dense(units=d_model, activation=tfa.activations.gelu)(attention)\r\n",
        "  outputs = tf.keras.layers.Dense(units=d_model, activation=tfa.activations.gelu)(outputs)\r\n",
        "\r\n",
        "  # Add & Norm \r\n",
        "  outputs = tf.keras.layers.LayerNormalization(epsilon=1e-6)(attention + outputs)\r\n",
        "\r\n",
        "  return tf.keras.Model(inputs=[inputs], outputs=outputs, name=name)\r\n",
        "\r\n",
        "def encoder( d_model=512, layers=1, patch_size=16, image_size=224, num_heads=8, dropout=0.1, batch_size=25, channels=3, name=\"decoder\"):\r\n",
        "    # sanity check\r\n",
        "    assert  d_model % num_heads == 0\r\n",
        "    assert  image_size % patch_size == 0\r\n",
        "\r\n",
        "    inputs = tf.keras.Input((224,224,3), name=\"inputs\")\r\n",
        "\r\n",
        "     # Image to patches\r\n",
        "    patches = tf.image.extract_patches(\r\n",
        "        images=inputs,\r\n",
        "        sizes=[1, patch_size, patch_size, 1],\r\n",
        "        strides=[1, patch_size, patch_size, 1],\r\n",
        "        rates=[1, 1, 1, 1],\r\n",
        "        padding=\"VALID\",\r\n",
        "    )\r\n",
        "    \r\n",
        "    # Embed patches\r\n",
        "    # patches = tf.reshape(patches, [batch_size, -1, channels * patch_size ** 2])\r\n",
        "    patches = tf.keras.layers.Flatten()(patches) # Flatten\r\n",
        "    patches = tf.keras.layers.Reshape((-1, channels * patch_size ** 2))(patches) # Reshape\r\n",
        "    embeddings = tf.keras.layers.Dense(d_model, activation=tfa.activations.gelu)(patches)\r\n",
        "\r\n",
        "    # Add positional encoding of patches\r\n",
        "    embeddings += RelativePositionEmbedding(hidden_size=d_model)(embeddings)\r\n",
        "\r\n",
        "\r\n",
        "    outputs = tf.keras.layers.Dropout(rate=dropout)(embeddings)\r\n",
        "\r\n",
        "    for i in range(layers):\r\n",
        "        outputs = encoder_layer(\r\n",
        "            d_model=d_model,\r\n",
        "            num_heads=num_heads,\r\n",
        "            dropout=dropout,\r\n",
        "            name=\"encoder_layer_{}\".format(i),\r\n",
        "        )([outputs])\r\n",
        "    \r\n",
        "    return tf.keras.Model(inputs=[inputs], outputs=outputs, name=name)\r\n",
        "\r\n",
        "\r\n",
        "def decoder_layer(d_model=512, heads=8, dropout=0.01, name=\"decoder_layer\"):\r\n",
        "    inputs = tf.keras.Input((None, d_model), name=\"inputs\")\r\n",
        "    enc_outputs = tf.keras.Input(shape=(None, d_model), name=\"encoder_outputs\")\r\n",
        "    look_ahead_mask = tf.keras.Input((1, None, None), name=\"look_ahead_mask\")\r\n",
        "\r\n",
        "    attn1 = tf.keras.layers.MultiHeadAttention(value_dim=d_model, key_dim=d_model, num_heads=heads, dropout=dropout, output_shape=d_model, name='')(inputs, inputs, inputs, look_ahead_mask, False)\r\n",
        "    out1 = tf.keras.layers.LayerNormalization(epsilon=1e-6, name='add_and_norm_1')(attn1 + inputs)\r\n",
        "\r\n",
        "    attn2 = tf.keras.layers.MultiHeadAttention(value_dim=d_model, key_dim=d_model, num_heads=heads, dropout=dropout, output_shape=d_model)(out1, enc_outputs, enc_outputs, None, False)\r\n",
        "    out2 = tf.keras.layers.LayerNormalization(epsilon=1e-6, name='add_and_norm_2')(attn2 + out1)\r\n",
        "\r\n",
        "    outputs = tf.keras.layers.Dense(units=d_model, activation=tfa.activations.gelu)(attn2)\r\n",
        "    outputs = tf.keras.layers.Dense(units=d_model, activation=tfa.activations.gelu)(outputs)\r\n",
        "\r\n",
        "    out3 = tf.keras.layers.LayerNormalization(epsilon=1e-6, name='add_and_norm_3')(outputs + out2)\r\n",
        "\r\n",
        "    return tf.keras.Model(inputs=[inputs, enc_outputs, look_ahead_mask], outputs=out3, name=name)        \r\n",
        "\r\n",
        "\r\n",
        "def decoder(d_model=512,heads=8, target_vocab_size=80, layers=8, dropout=0.1, name=\"decoder\"):\r\n",
        "    inputs = tf.keras.Input((None,), name=\"inputs\")\r\n",
        "    enc_outputs = tf.keras.Input(shape=(None, d_model), name='encoder_outputs')\r\n",
        "    look_ahead_mask = tf.keras.Input(shape=(1, None, None), name='look_ahead_mask')\r\n",
        "\r\n",
        "    embeddings = tf.keras.layers.Embedding(target_vocab_size , d_model, name='output_embeding')(inputs)\r\n",
        "    embeddings *= tf.math.sqrt(tf.cast(d_model, tf.float32))\r\n",
        "    pos_encoding = RelativePositionEmbedding(hidden_size=d_model)(embeddings)\r\n",
        "    embeddings = embeddings + pos_encoding\r\n",
        "\r\n",
        "    outputs = tf.keras.layers.Dropout(rate=dropout)(embeddings)\r\n",
        "\r\n",
        "    for i in range(layers):\r\n",
        "        outputs = decoder_layer(d_model=d_model, heads=heads, dropout=dropout, name='decoder_layer_{}'.format(i), )(inputs=[outputs, enc_outputs, look_ahead_mask])\r\n",
        "\r\n",
        "    return tf.keras.Model(inputs=[inputs, enc_outputs, look_ahead_mask], outputs=outputs, name=name)\r\n",
        "\r\n",
        "\r\n",
        "def create_padding_mask(x):\r\n",
        "  mask = tf.cast(tf.math.equal(x, 0), tf.float32)\r\n",
        "  return mask[:, tf.newaxis, tf.newaxis, :]\r\n",
        "\r\n",
        "def create_masks_decoder(x, training):\r\n",
        "  seq_len = tf.shape(x)[1]\r\n",
        "  look_ahead_mask = 1 - tf.linalg.band_part(tf.ones((seq_len, seq_len)), -1, 0)\r\n",
        "  padding_mask = create_padding_mask(x)\r\n",
        "  return tf.maximum(look_ahead_mask, padding_mask)\r\n",
        "\r\n",
        "def transformer(vocab_size=88, d_model=512, heads=8, layers=1, dropout=0.01, patch_size=16, image_size=224, name='CPTR'):\r\n",
        "    inputs = tf.keras.Input((224,224,3), name=\"inputs\")\r\n",
        "    dec_inputs = tf.keras.Input((None,), name=\"dec_inputs\")\r\n",
        "\r\n",
        "\r\n",
        "    dec_mask = tf.keras.layers.Lambda(create_masks_decoder, output_shape=(1, None, None), name='look_ahead_mask')(dec_inputs)\r\n",
        "\r\n",
        "    enc_outputs = encoder(\r\n",
        "         d_model=d_model, \r\n",
        "         layers=layers, \r\n",
        "         patch_size=patch_size,\r\n",
        "         image_size=image_size,\r\n",
        "         num_heads=heads, \r\n",
        "         dropout=0.1, \r\n",
        "         batch_size=25,\r\n",
        "         channels=3,\r\n",
        "         name=\"encoder\",\r\n",
        "    )(inputs=[inputs])\r\n",
        "\r\n",
        "\r\n",
        "    dec_outputs = decoder(target_vocab_size=vocab_size, d_model=d_model, heads=heads, layers=layers, dropout=dropout)(inputs=[dec_inputs, enc_outputs, dec_mask])\r\n",
        "\r\n",
        "    outputs = tf.keras.layers.Dense(vocab_size, activation='softmax', name=\"outputs\")(dec_outputs)\r\n",
        "\r\n",
        "    return tf.keras.Model(inputs=[inputs, dec_inputs], outputs=outputs, name=name)        "
      ],
      "execution_count": null,
      "outputs": []
    },
    {
      "cell_type": "markdown",
      "metadata": {
        "id": "9Iw45dXXFymU"
      },
      "source": [
        "# Training"
      ]
    },
    {
      "cell_type": "code",
      "metadata": {
        "id": "HkawCpDVF1ms"
      },
      "source": [
        "train_sequences, train_images, validate_sequences, validate_images, top_k, tokenizer = load_dataset('pix2code')\r\n",
        "\r\n",
        "MAX_LENGTH = len(train_sequences[0])\r\n",
        "\r\n",
        "def accuracy(y_true, y_pred):\r\n",
        "  # ensure labels have shape (batch_size, MAX_LENGTH - 1)\r\n",
        "  y_true = tf.reshape(y_true, shape=(-1, MAX_LENGTH - 1))\r\n",
        "  return tf.keras.metrics.sparse_categorical_accuracy(y_true, y_pred)\r\n",
        "\r\n",
        "def other_accuracy(real, pred):\r\n",
        "  casted = tf.cast(tf.argmax(pred, axis=2), tf.float32)\r\n",
        "  accuracies = tf.equal(real,  casted)\r\n",
        "  mask = tf.math.logical_not(tf.math.equal(real, 0))\r\n",
        "  accuracies = tf.math.logical_and(mask, accuracies)\r\n",
        "  accuracies = tf.cast(accuracies, dtype=tf.float32)\r\n",
        "  mask = tf.cast(mask, dtype=tf.float32)\r\n",
        "\r\n",
        "  return tf.reduce_sum(accuracies)/tf.reduce_sum(mask)\r\n",
        "\r\n",
        "\r\n",
        "def loss_function(y_true, y_pred):\r\n",
        "  y_true = tf.reshape(y_true, shape=(-1, MAX_LENGTH - 1))\r\n",
        "  \r\n",
        "  loss = tf.keras.losses.SparseCategoricalCrossentropy(from_logits=True, reduction='none')(y_true, y_pred)\r\n",
        "  mask = tf.cast(tf.not_equal(y_true, 0), tf.float32)\r\n",
        "  loss = tf.multiply(loss, mask)\r\n",
        "\r\n",
        "  return tf.reduce_mean(loss)\r\n"
      ],
      "execution_count": null,
      "outputs": []
    },
    {
      "cell_type": "code",
      "metadata": {
        "colab": {
          "base_uri": "https://localhost:8080/",
          "height": 1000,
          "referenced_widgets": [
            "8f305fedca7f4d6f8b2d3335a791aa1f",
            "da1b50852e9346318f1099aa4802efbf",
            "326a143578364d2d927d7353b5465071",
            "c014280cc0ee42c48587a6e378ae1085",
            "d50007a3b52e407e918fc5c999dde6b4",
            "c5cfd228cd1345678359bcbfe0bd9e9f",
            "0bd2b0aca939484ebdf2b9ba977e5092",
            "106498e7e77b4239b3eb9c938e63b836",
            "1f0251d7841c4665aa0377069fe8f62f",
            "fc27c974f8b24337a54b79d9df7eec78",
            "495e2084d5e14490baa2ca0fff1db26c",
            "4a4ce4221ec2446c927d556ebe8f8fcb",
            "d1df895adb604c88976608567a50e41e",
            "390883f10e1445309ddf1a32bd664a5e",
            "3c72edc24d9245b09c20c384d7ec8a6f",
            "1430532c88954c5a876ac73bcafeb0f3"
          ]
        },
        "id": "ulnAmd48F9UW",
        "outputId": "53caec49-a619-46e9-e72e-5b68710da281"
      },
      "source": [
        "from official.nlp.optimization import create_optimizer\r\n",
        "from wandb.keras import WandbCallback\r\n",
        "\r\n",
        "batch_size = 32\r\n",
        "\r\n",
        "train_dataset = process_dataset(train_images, train_sequences, batch_size)\r\n",
        "validate_dataset = process_dataset(validate_images, validate_sequences , batch_size)\r\n",
        "\r\n",
        "\r\n",
        "epochs = 10\r\n",
        "train_data_size = 1500\r\n",
        "                    \r\n",
        "steps_per_epoch = int(train_data_size / batch_size)\r\n",
        "num_train_steps = steps_per_epoch * epochs\r\n",
        "warmup_steps = int(epochs * train_data_size * 0.1 / batch_size)\r\n",
        "initial_learning_rate=2e-5\r\n",
        "\r\n",
        "optimizer = create_optimizer(init_lr=initial_learning_rate,\r\n",
        "                                num_train_steps=num_train_steps,\r\n",
        "                                num_warmup_steps=warmup_steps,\r\n",
        "                                end_lr=0.0,\r\n",
        "                                optimizer_type='adamw')\r\n",
        "\r\n",
        "\r\n",
        "model = transformer(d_model = 1024,\r\n",
        "                    vocab_size = top_k,\r\n",
        "                    layers = 2,\r\n",
        "                    dropout = 0.01,\r\n",
        "                    heads = 4,\r\n",
        "                    name = 'transformer')\r\n",
        "\r\n",
        "run = wandb.init(project='pix2code', reinit=True,)\r\n",
        "\r\n",
        "model.compile(optimizer=optimizer, loss=loss_function, metrics=[accuracy, other_accuracy])                           \r\n",
        "history = model.fit(train_dataset, validation_data=validate_dataset, epochs=epochs, verbose=1, callbacks=[WandbCallback()])\r\n",
        "\r\n",
        "run.finish()"
      ],
      "execution_count": null,
      "outputs": [
        {
          "output_type": "stream",
          "text": [
            "/usr/local/lib/python3.7/dist-packages/tensorflow_addons/activations/gelu.py:81: UserWarning: Default value of `approximate` is changed from `True` to `False`\n",
            "  \"Default value of `approximate` is changed from `True` to `False`\"\n"
          ],
          "name": "stderr"
        },
        {
          "output_type": "display_data",
          "data": {
            "text/html": [
              "Finishing last run (ID:z612ebus) before initializing another..."
            ],
            "text/plain": [
              "<IPython.core.display.HTML object>"
            ]
          },
          "metadata": {
            "tags": []
          }
        },
        {
          "output_type": "display_data",
          "data": {
            "text/html": [
              "<br/>Waiting for W&B process to finish, PID 210<br/>Program ended successfully."
            ],
            "text/plain": [
              "<IPython.core.display.HTML object>"
            ]
          },
          "metadata": {
            "tags": []
          }
        },
        {
          "output_type": "display_data",
          "data": {
            "application/vnd.jupyter.widget-view+json": {
              "model_id": "8f305fedca7f4d6f8b2d3335a791aa1f",
              "version_minor": 0,
              "version_major": 2
            },
            "text/plain": [
              "VBox(children=(Label(value=' 1.93MB of 1.93MB uploaded (0.00MB deduped)\\r'), FloatProgress(value=1.0, max=1.0)…"
            ]
          },
          "metadata": {
            "tags": []
          }
        },
        {
          "output_type": "display_data",
          "data": {
            "text/html": [
              "Find user logs for this run at: <code>/content/wandb/run-20210313_192417-z612ebus/logs/debug.log</code>"
            ],
            "text/plain": [
              "<IPython.core.display.HTML object>"
            ]
          },
          "metadata": {
            "tags": []
          }
        },
        {
          "output_type": "display_data",
          "data": {
            "text/html": [
              "Find internal logs for this run at: <code>/content/wandb/run-20210313_192417-z612ebus/logs/debug-internal.log</code>"
            ],
            "text/plain": [
              "<IPython.core.display.HTML object>"
            ]
          },
          "metadata": {
            "tags": []
          }
        },
        {
          "output_type": "display_data",
          "data": {
            "text/html": [
              "Synced 5 W&B file(s), 0 media file(s), 13 artifact file(s) and 1 other file(s)"
            ],
            "text/plain": [
              "<IPython.core.display.HTML object>"
            ]
          },
          "metadata": {
            "tags": []
          }
        },
        {
          "output_type": "display_data",
          "data": {
            "text/html": [
              "\n",
              "                    <br/>Synced <strong style=\"color:#cdcd00\">royal-sunset-1</strong>: <a href=\"https://wandb.ai/povilas/pix2code/runs/z612ebus\" target=\"_blank\">https://wandb.ai/povilas/pix2code/runs/z612ebus</a><br/>\n",
              "                "
            ],
            "text/plain": [
              "<IPython.core.display.HTML object>"
            ]
          },
          "metadata": {
            "tags": []
          }
        },
        {
          "output_type": "display_data",
          "data": {
            "text/html": [
              "...Successfully finished last run (ID:z612ebus). Initializing new run:<br/><br/>"
            ],
            "text/plain": [
              "<IPython.core.display.HTML object>"
            ]
          },
          "metadata": {
            "tags": []
          }
        },
        {
          "output_type": "display_data",
          "data": {
            "text/html": [
              "\n",
              "                Tracking run with wandb version 0.10.22<br/>\n",
              "                Syncing run <strong style=\"color:#cdcd00\">twilight-water-2</strong> to <a href=\"https://wandb.ai\" target=\"_blank\">Weights & Biases</a> <a href=\"https://docs.wandb.com/integrations/jupyter.html\" target=\"_blank\">(Documentation)</a>.<br/>\n",
              "                Project page: <a href=\"https://wandb.ai/povilas/pix2code\" target=\"_blank\">https://wandb.ai/povilas/pix2code</a><br/>\n",
              "                Run page: <a href=\"https://wandb.ai/povilas/pix2code/runs/2593bb80\" target=\"_blank\">https://wandb.ai/povilas/pix2code/runs/2593bb80</a><br/>\n",
              "                Run data is saved locally in <code>/content/wandb/run-20210313_192634-2593bb80</code><br/><br/>\n",
              "            "
            ],
            "text/plain": [
              "<IPython.core.display.HTML object>"
            ]
          },
          "metadata": {
            "tags": []
          }
        },
        {
          "output_type": "stream",
          "text": [
            "Epoch 1/10\n",
            "47/47 [==============================] - 38s 630ms/step - loss: 1.5158 - accuracy: 0.1081 - other_accuracy: 0.1848 - val_loss: 0.9448 - val_accuracy: 0.2679 - val_other_accuracy: 0.4633\n"
          ],
          "name": "stdout"
        },
        {
          "output_type": "stream",
          "text": [
            "\u001b[34m\u001b[1mwandb\u001b[0m: \u001b[32m\u001b[41mERROR\u001b[0m Can't save model, h5py returned error: Unable to create link (name already exists)\n"
          ],
          "name": "stderr"
        },
        {
          "output_type": "stream",
          "text": [
            "Epoch 2/10\n",
            "47/47 [==============================] - 29s 607ms/step - loss: 0.7161 - accuracy: 0.3507 - other_accuracy: 0.5998 - val_loss: 0.2657 - val_accuracy: 0.4751 - val_other_accuracy: 0.8221\n",
            "Epoch 3/10\n",
            "47/47 [==============================] - 28s 607ms/step - loss: 0.2036 - accuracy: 0.5050 - other_accuracy: 0.8635 - val_loss: 0.0338 - val_accuracy: 0.5668 - val_other_accuracy: 0.9806\n",
            "Epoch 4/10\n",
            "47/47 [==============================] - 29s 607ms/step - loss: 0.0315 - accuracy: 0.5747 - other_accuracy: 0.9826 - val_loss: 0.0182 - val_accuracy: 0.5719 - val_other_accuracy: 0.9895\n",
            "Epoch 5/10\n",
            "47/47 [==============================] - 28s 606ms/step - loss: 0.0186 - accuracy: 0.5784 - other_accuracy: 0.9890 - val_loss: 0.0112 - val_accuracy: 0.5747 - val_other_accuracy: 0.9944\n",
            "Epoch 6/10\n",
            "47/47 [==============================] - 28s 606ms/step - loss: 0.0109 - accuracy: 0.5812 - other_accuracy: 0.9938 - val_loss: 0.0053 - val_accuracy: 0.5776 - val_other_accuracy: 0.9994\n",
            "Epoch 7/10\n",
            "47/47 [==============================] - 28s 607ms/step - loss: 0.0065 - accuracy: 0.5833 - other_accuracy: 0.9974 - val_loss: 0.0029 - val_accuracy: 0.5779 - val_other_accuracy: 0.9999\n",
            "Epoch 8/10\n",
            "47/47 [==============================] - 28s 607ms/step - loss: 0.0044 - accuracy: 0.5839 - other_accuracy: 0.9985 - val_loss: 0.0020 - val_accuracy: 0.5779 - val_other_accuracy: 0.9999\n",
            "Epoch 9/10\n",
            "47/47 [==============================] - 28s 606ms/step - loss: 0.0034 - accuracy: 0.5844 - other_accuracy: 0.9993 - val_loss: 0.0017 - val_accuracy: 0.5779 - val_other_accuracy: 0.9999\n",
            "Epoch 10/10\n",
            "47/47 [==============================] - 28s 606ms/step - loss: 0.0032 - accuracy: 0.5843 - other_accuracy: 0.9991 - val_loss: 0.0015 - val_accuracy: 0.5779 - val_other_accuracy: 0.9999\n"
          ],
          "name": "stdout"
        },
        {
          "output_type": "display_data",
          "data": {
            "text/html": [
              "<br/>Waiting for W&B process to finish, PID 311<br/>Program ended successfully."
            ],
            "text/plain": [
              "<IPython.core.display.HTML object>"
            ]
          },
          "metadata": {
            "tags": []
          }
        },
        {
          "output_type": "display_data",
          "data": {
            "application/vnd.jupyter.widget-view+json": {
              "model_id": "1f0251d7841c4665aa0377069fe8f62f",
              "version_minor": 0,
              "version_major": 2
            },
            "text/plain": [
              "VBox(children=(Label(value=' 200.35MB of 200.35MB uploaded (0.00MB deduped)\\r'), FloatProgress(value=1.0, max=…"
            ]
          },
          "metadata": {
            "tags": []
          }
        },
        {
          "output_type": "display_data",
          "data": {
            "text/html": [
              "Find user logs for this run at: <code>/content/wandb/run-20210313_192634-2593bb80/logs/debug.log</code>"
            ],
            "text/plain": [
              "<IPython.core.display.HTML object>"
            ]
          },
          "metadata": {
            "tags": []
          }
        },
        {
          "output_type": "display_data",
          "data": {
            "text/html": [
              "Find internal logs for this run at: <code>/content/wandb/run-20210313_192634-2593bb80/logs/debug-internal.log</code>"
            ],
            "text/plain": [
              "<IPython.core.display.HTML object>"
            ]
          },
          "metadata": {
            "tags": []
          }
        },
        {
          "output_type": "display_data",
          "data": {
            "text/html": [
              "<h3>Run summary:</h3><br/><style>\n",
              "    table.wandb td:nth-child(1) { padding: 0 10px; text-align: right }\n",
              "    </style><table class=\"wandb\">\n",
              "<tr><td>epoch</td><td>9</td></tr><tr><td>loss</td><td>0.00283</td></tr><tr><td>accuracy</td><td>0.58638</td></tr><tr><td>other_accuracy</td><td>0.99921</td></tr><tr><td>val_loss</td><td>0.00146</td></tr><tr><td>val_accuracy</td><td>0.57793</td></tr><tr><td>val_other_accuracy</td><td>0.99992</td></tr><tr><td>_runtime</td><td>304</td></tr><tr><td>_timestamp</td><td>1615663903</td></tr><tr><td>_step</td><td>9</td></tr><tr><td>best_val_loss</td><td>0.00146</td></tr><tr><td>best_epoch</td><td>9</td></tr></table>"
            ],
            "text/plain": [
              "<IPython.core.display.HTML object>"
            ]
          },
          "metadata": {
            "tags": []
          }
        },
        {
          "output_type": "display_data",
          "data": {
            "text/html": [
              "<h3>Run history:</h3><br/><style>\n",
              "    table.wandb td:nth-child(1) { padding: 0 10px; text-align: right }\n",
              "    </style><table class=\"wandb\">\n",
              "<tr><td>epoch</td><td>▁▂▃▃▄▅▆▆▇█</td></tr><tr><td>loss</td><td>█▄▂▁▁▁▁▁▁▁</td></tr><tr><td>accuracy</td><td>▁▅▇███████</td></tr><tr><td>other_accuracy</td><td>▁▅▇███████</td></tr><tr><td>val_loss</td><td>█▃▁▁▁▁▁▁▁▁</td></tr><tr><td>val_accuracy</td><td>▁▆████████</td></tr><tr><td>val_other_accuracy</td><td>▁▆████████</td></tr><tr><td>_runtime</td><td>▁▂▃▃▄▅▆▆▇█</td></tr><tr><td>_timestamp</td><td>▁▂▃▃▄▅▆▆▇█</td></tr><tr><td>_step</td><td>▁▂▃▃▄▅▆▆▇█</td></tr></table><br/>"
            ],
            "text/plain": [
              "<IPython.core.display.HTML object>"
            ]
          },
          "metadata": {
            "tags": []
          }
        },
        {
          "output_type": "display_data",
          "data": {
            "text/html": [
              "Synced 5 W&B file(s), 1 media file(s), 0 artifact file(s) and 1 other file(s)"
            ],
            "text/plain": [
              "<IPython.core.display.HTML object>"
            ]
          },
          "metadata": {
            "tags": []
          }
        },
        {
          "output_type": "display_data",
          "data": {
            "text/html": [
              "\n",
              "                    <br/>Synced <strong style=\"color:#cdcd00\">twilight-water-2</strong>: <a href=\"https://wandb.ai/povilas/pix2code/runs/2593bb80\" target=\"_blank\">https://wandb.ai/povilas/pix2code/runs/2593bb80</a><br/>\n",
              "                "
            ],
            "text/plain": [
              "<IPython.core.display.HTML object>"
            ]
          },
          "metadata": {
            "tags": []
          }
        }
      ]
    },
    {
      "cell_type": "markdown",
      "metadata": {
        "id": "l9o6r7ucL-N2"
      },
      "source": [
        "# Demonstrate working model"
      ]
    },
    {
      "cell_type": "code",
      "metadata": {
        "colab": {
          "resources": {
            "http://localhost:8080/nbextensions/google.colab/files.js": {
              "data": "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",
              "ok": true,
              "headers": [
                [
                  "content-type",
                  "application/javascript"
                ]
              ],
              "status": 200,
              "status_text": ""
            }
          },
          "base_uri": "https://localhost:8080/",
          "height": 837
        },
        "id": "8azlOEi0MCD6",
        "outputId": "adef0bac-1b40-4cd4-95be-9b2a5b9e1b16"
      },
      "source": [
        "def predict(model, tokenizer, image_tensor, html=[]):\r\n",
        "    start_token = 2 \r\n",
        "    end_token = 78\r\n",
        "\r\n",
        "    if (len(html) == 0):\r\n",
        "        html = tf.expand_dims([start_token], 0)\r\n",
        "\r\n",
        "    reshaped_image = tf.expand_dims(image_tensor, axis=0)\r\n",
        "    html = tf.expand_dims([start_token], 0)\r\n",
        "\r\n",
        "    reshaped_image = tf.expand_dims(image_tensor, axis=0)\r\n",
        "    prediction = model(inputs=[reshaped_image, html], training=False)\r\n",
        "\r\n",
        "    prediction = prediction[:, -1:, :]\r\n",
        "    prediction = tf.cast(tf.argmax(prediction, axis=-1), tf.int32)\r\n",
        "    i = 0\r\n",
        "    while (tf.equal(prediction, end_token) == False and i < 20):\r\n",
        "        print('passed to model for next token prediction', html)\r\n",
        "        prediction = model(inputs=[reshaped_image, html], training=False)\r\n",
        "        prediction = prediction[:, -1:, :]\r\n",
        "        prediction = tf.cast(tf.argmax(prediction, axis=-1), tf.int32)\r\n",
        "        html = tf.concat([html, prediction], axis=-1)\r\n",
        "        result1 = tf.squeeze(html, axis=0).numpy()\r\n",
        "        result = ' '.join([tokenizer.index_word[i] for i in result1 ])\r\n",
        "        print(result)\r\n",
        "        html = tf.expand_dims(result1, 0)\r\n",
        "        i += 1 \r\n",
        "\r\n",
        "    return tf.squeeze(html, axis=0)\r\n",
        "\r\n",
        "from IPython.core.display import display, HTML\r\n",
        "from google.colab import files\r\n",
        "\r\n",
        "def add_file():\r\n",
        "    uploaded = files.upload()\r\n",
        "    return list(uploaded.keys())[0]\r\n",
        "\r\n",
        "\r\n",
        "uploaded_image = add_file()\r\n",
        "uploade_image_features = read_images([uploaded_image])[0]\r\n",
        "\r\n",
        "predicted = predict(model, tokenizer, uploade_image_features)\r\n",
        "predicted = predicted.numpy()\r\n",
        "print(predicted)\r\n",
        "\r\n",
        "html = ' '.join([tokenizer.index_word[i] for i in predicted])\r\n",
        "print(html)\r\n",
        "display(HTML(html))"
      ],
      "execution_count": null,
      "outputs": [
        {
          "output_type": "display_data",
          "data": {
            "text/html": [
              "\n",
              "     <input type=\"file\" id=\"files-cc1e404c-9a20-4d37-90ab-7fd6731bff16\" name=\"files[]\" multiple disabled\n",
              "        style=\"border:none\" />\n",
              "     <output id=\"result-cc1e404c-9a20-4d37-90ab-7fd6731bff16\">\n",
              "      Upload widget is only available when the cell has been executed in the\n",
              "      current browser session. Please rerun this cell to enable.\n",
              "      </output>\n",
              "      <script src=\"/nbextensions/google.colab/files.js\"></script> "
            ],
            "text/plain": [
              "<IPython.core.display.HTML object>"
            ]
          },
          "metadata": {
            "tags": []
          }
        },
        {
          "output_type": "stream",
          "text": [
            "Saving 0B660875-60B4-4E65-9793-3C7EB6C8AFD0.gui.jpeg to 0B660875-60B4-4E65-9793-3C7EB6C8AFD0.gui.jpeg\n"
          ],
          "name": "stdout"
        },
        {
          "output_type": "stream",
          "text": [
            "/usr/local/lib/python3.7/dist-packages/tensorflow_addons/activations/gelu.py:81: UserWarning: Default value of `approximate` is changed from `True` to `False`\n",
            "  \"Default value of `approximate` is changed from `True` to `False`\"\n"
          ],
          "name": "stderr"
        },
        {
          "output_type": "stream",
          "text": [
            "passed to model for next token prediction tf.Tensor([[2]], shape=(1, 1), dtype=int32)\n",
            "header {\n",
            "passed to model for next token prediction tf.Tensor([[2 3]], shape=(1, 2), dtype=int32)\n",
            "header { {\n",
            "passed to model for next token prediction tf.Tensor([[2 3 3]], shape=(1, 3), dtype=int32)\n",
            "header { { row\n",
            "passed to model for next token prediction tf.Tensor([[2 3 3 8]], shape=(1, 4), dtype=int32)\n",
            "header { { row row\n",
            "passed to model for next token prediction tf.Tensor([[2 3 3 8 8]], shape=(1, 5), dtype=int32)\n",
            "header { { row row row\n",
            "passed to model for next token prediction tf.Tensor([[2 3 3 8 8 8]], shape=(1, 6), dtype=int32)\n",
            "header { { row row row row\n",
            "passed to model for next token prediction tf.Tensor([[2 3 3 8 8 8 8]], shape=(1, 7), dtype=int32)\n",
            "header { { row row row row row\n",
            "passed to model for next token prediction tf.Tensor([[2 3 3 8 8 8 8 8]], shape=(1, 8), dtype=int32)\n",
            "header { { row row row row row row\n",
            "passed to model for next token prediction tf.Tensor([[2 3 3 8 8 8 8 8 8]], shape=(1, 9), dtype=int32)\n",
            "header { { row row row row row row row\n",
            "passed to model for next token prediction tf.Tensor([[2 3 3 8 8 8 8 8 8 8]], shape=(1, 10), dtype=int32)\n",
            "header { { row row row row row row row row\n",
            "passed to model for next token prediction tf.Tensor([[2 3 3 8 8 8 8 8 8 8 8]], shape=(1, 11), dtype=int32)\n",
            "header { { row row row row row row row row row\n",
            "passed to model for next token prediction tf.Tensor([[2 3 3 8 8 8 8 8 8 8 8 8]], shape=(1, 12), dtype=int32)\n",
            "header { { row row row row row row row row row row\n",
            "passed to model for next token prediction tf.Tensor([[2 3 3 8 8 8 8 8 8 8 8 8 8]], shape=(1, 13), dtype=int32)\n",
            "header { { row row row row row row row row row row row\n",
            "passed to model for next token prediction tf.Tensor([[2 3 3 8 8 8 8 8 8 8 8 8 8 8]], shape=(1, 14), dtype=int32)\n",
            "header { { row row row row row row row row row row row row\n",
            "passed to model for next token prediction tf.Tensor([[2 3 3 8 8 8 8 8 8 8 8 8 8 8 8]], shape=(1, 15), dtype=int32)\n",
            "header { { row row row row row row row row row row row row row\n",
            "passed to model for next token prediction tf.Tensor([[2 3 3 8 8 8 8 8 8 8 8 8 8 8 8 8]], shape=(1, 16), dtype=int32)\n",
            "header { { row row row row row row row row row row row row row row\n",
            "passed to model for next token prediction tf.Tensor([[2 3 3 8 8 8 8 8 8 8 8 8 8 8 8 8 8]], shape=(1, 17), dtype=int32)\n",
            "header { { row row row row row row row row row row row row row row row\n",
            "passed to model for next token prediction tf.Tensor([[2 3 3 8 8 8 8 8 8 8 8 8 8 8 8 8 8 8]], shape=(1, 18), dtype=int32)\n",
            "header { { row row row row row row row row row row row row row row row row\n",
            "passed to model for next token prediction tf.Tensor([[2 3 3 8 8 8 8 8 8 8 8 8 8 8 8 8 8 8 8]], shape=(1, 19), dtype=int32)\n",
            "header { { row row row row row row row row row row row row row row row row row\n",
            "passed to model for next token prediction tf.Tensor([[2 3 3 8 8 8 8 8 8 8 8 8 8 8 8 8 8 8 8 8]], shape=(1, 20), dtype=int32)\n",
            "header { { row row row row row row row row row row row row row row row row row row\n",
            "[2 3 3 8 8 8 8 8 8 8 8 8 8 8 8 8 8 8 8 8 8]\n",
            "header { { row row row row row row row row row row row row row row row row row row\n"
          ],
          "name": "stdout"
        },
        {
          "output_type": "display_data",
          "data": {
            "text/html": [
              "header { { row row row row row row row row row row row row row row row row row row"
            ],
            "text/plain": [
              "<IPython.core.display.HTML object>"
            ]
          },
          "metadata": {
            "tags": []
          }
        }
      ]
    },
    {
      "cell_type": "code",
      "metadata": {
        "id": "bqXo8KBYtnuy"
      },
      "source": [
        "model.summary()"
      ],
      "execution_count": null,
      "outputs": []
    },
    {
      "cell_type": "markdown",
      "metadata": {
        "id": "GMOtVUibEJP7"
      },
      "source": [
        ""
      ]
    },
    {
      "cell_type": "code",
      "metadata": {
        "id": "KCdhg0zS-VLd"
      },
      "source": [
        "def plot_model(model, file_name='model.png'):\r\n",
        "    return tf.keras.utils.plot_model(model, file_name, show_shapes=True, rankdir='TB', dpi=80, show_dtype=True, expand_nested=True)  \r\n",
        "\r\n",
        "\r\n",
        "sample_encoder_layer = encoder_layer(d_model=512, num_heads=8, dropout=0.1, name=\"sample_encoder_layer\")\r\n",
        "\r\n",
        "# plot_model(sample_encoder_layer)    \r\n",
        "\r\n",
        "sample_encoder = encoder(\r\n",
        "    patch_size=16,\r\n",
        "    image_size=224, \r\n",
        "    d_model=512,\r\n",
        "    num_heads=8,\r\n",
        "    dropout=0.1, \r\n",
        "    batch_size=25, \r\n",
        "    channels=3,\r\n",
        "    name=\"sample_encoder_layer\")\r\n",
        "\r\n",
        "\r\n",
        "# plot_model(sample_encoder)\r\n",
        "\r\n",
        "sample_decoder_layer = decoder_layer(\r\n",
        "    d_model=512,\r\n",
        "    heads=8,\r\n",
        "    dropout=0.01,\r\n",
        "    name=\"sample_encoder_layer\")\r\n",
        "\r\n",
        "# plot_model(sample_decoder_layer)  \r\n",
        "\r\n",
        "\r\n",
        "\r\n",
        "sample_decoder = decoder(\r\n",
        "    d_model=512,\r\n",
        "    heads=8, \r\n",
        "    target_vocab_size=80, \r\n",
        "    layers=8,\r\n",
        "    dropout=0.1,\r\n",
        "    name=\"sample_decoder\"\r\n",
        "    )\r\n",
        "\r\n",
        "# plot_model(sample_decoder_layer)    \r\n",
        "\r\n",
        "\r\n",
        "sample_transformer = transformer(vocab_size=88, \r\n",
        "                                 d_model=512,\r\n",
        "                                 heads=8, \r\n",
        "                                 layers=1, \r\n",
        "                                 dropout=0.01, \r\n",
        "                                 patch_size=16,\r\n",
        "                                 image_size=224, \r\n",
        "                                 name='CPTR')     \r\n",
        "\r\n",
        "# plot_model(sample_transformer)   "
      ],
      "execution_count": null,
      "outputs": []
    }
  ]
}